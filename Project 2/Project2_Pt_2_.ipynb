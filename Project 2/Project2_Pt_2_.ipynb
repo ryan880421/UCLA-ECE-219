{
 "cells": [
  {
   "cell_type": "markdown",
   "metadata": {
    "id": "oa6EQATDeYJP"
   },
   "source": [
    "# PART 2"
   ]
  },
  {
   "cell_type": "code",
   "execution_count": 24,
   "metadata": {
    "id": "ULZTI1pB4VMG"
   },
   "outputs": [],
   "source": [
    "import torch\n",
    "import torch.nn as nn\n",
    "from torchvision import transforms, datasets\n",
    "from torch.utils.data import DataLoader, TensorDataset\n",
    "import numpy as np\n",
    "import matplotlib.pyplot as plt\n",
    "\n",
    "from tqdm import tqdm\n",
    "import requests\n",
    "import os\n",
    "import tarfile\n",
    "\n",
    "from sklearn.preprocessing import StandardScaler\n",
    "from sklearn.decomposition import PCA\n",
    "from sklearn.cluster import KMeans\n",
    "from sklearn.metrics import confusion_matrix, adjusted_rand_score, adjusted_mutual_info_score\n",
    "from sklearn.pipeline import Pipeline\n",
    "from sklearn.base import TransformerMixin"
   ]
  },
  {
   "cell_type": "markdown",
   "metadata": {
    "id": "yTgt-OOyeQvu"
   },
   "source": []
  },
  {
   "cell_type": "code",
   "execution_count": 25,
   "metadata": {
    "id": "OawTew8P4eOG"
   },
   "outputs": [],
   "source": [
    "filename = './flowers_features_and_labels.npz'\n",
    "\n",
    "if os.path.exists(filename):\n",
    "    file = np.load(filename)\n",
    "    f_all, y_all = file['f_all'], file['y_all']\n",
    "\n",
    "else:\n",
    "    if not os.path.exists('./flower_photos'):\n",
    "        # download the flowers dataset and extract its images\n",
    "        url = 'http://download.tensorflow.org/example_images/flower_photos.tgz'\n",
    "        with open('./flower_photos.tgz', 'wb') as file:\n",
    "            file.write(requests.get(url).content)\n",
    "        with tarfile.open('./flower_photos.tgz') as file:\n",
    "            file.extractall('./')\n",
    "        os.remove('./flower_photos.tgz')\n",
    "\n",
    "    class FeatureExtractor(nn.Module):\n",
    "        def __init__(self):\n",
    "            super().__init__()\n",
    "\n",
    "            vgg = torch.hub.load('pytorch/vision:v0.10.0', 'vgg16', pretrained=True)\n",
    "\n",
    "            # Extract VGG-16 Feature Layers\n",
    "            self.features = list(vgg.features)\n",
    "            self.features = nn.Sequential(*self.features)\n",
    "            # Extract VGG-16 Average Pooling Layer\n",
    "            self.pooling = vgg.avgpool\n",
    "            # Convert the image into one-dimensional vector\n",
    "            self.flatten = nn.Flatten()\n",
    "            # Extract the first part of fully-connected layer from VGG16\n",
    "            self.fc = vgg.classifier[0]\n",
    "\n",
    "        def forward(self, x):\n",
    "            # It will take the input 'x' until it returns the feature vector called 'out'\n",
    "            out = self.features(x)\n",
    "            out = self.pooling(out)\n",
    "            out = self.flatten(out)\n",
    "            out = self.fc(out) \n",
    "            return out \n",
    "\n",
    "    # Initialize the model\n",
    "    assert torch.cuda.is_available()\n",
    "    feature_extractor = FeatureExtractor().cuda().eval()\n",
    "\n",
    "    dataset = datasets.ImageFolder(root='./flower_photos',\n",
    "                                   transform=transforms.Compose([transforms.Resize(224),\n",
    "                                                                 transforms.CenterCrop(224),\n",
    "                                                                 transforms.ToTensor(),\n",
    "                                                                 transforms.Normalize(mean=[0.485, 0.456, 0.406], std=[0.229, 0.224, 0.225])]))\n",
    "    dataloader = DataLoader(dataset, batch_size=64, shuffle=True)\n",
    "\n",
    "    # Extract features and store them on disk\n",
    "    f_all, y_all = np.zeros((0, 4096)), np.zeros((0,))\n",
    "    for x, y in tqdm(dataloader):\n",
    "        with torch.no_grad():\n",
    "            f_all = np.vstack([f_all, feature_extractor(x.cuda()).cpu()])\n",
    "            y_all = np.concatenate([y_all, y])\n",
    "    np.savez(filename, f_all=f_all, y_all=y_all)"
   ]
  },
  {
   "cell_type": "markdown",
   "metadata": {
    "id": "xIMB6wP_Bmpq"
   },
   "source": [
    "\n",
    "# QUESTION 19:\n",
    " In a brief paragraph discuss: If the VGG network is trained on a dataset with\n",
    "perhaps totally different classes as targets, why would one expect the features derived from such a\n",
    "network to have discriminative power for a custom dataset?\n",
    "### A: We use the pre-trained model's architecture to create a new dataset from our input images in this approach. We'll import the Convolutional and Pooling layers but leave out the \"top portion\" of the model (the Fully-Connected layer).Recall that VGG16 has been trained on millions of images. Its convolutional layers and trained weights can detect generic features. In other words, we use the patterns that the NN found to be useful to classify images of a given problem to classify a completely different problem without retraining that part of the network.\n",
    "\n"
   ]
  },
  {
   "cell_type": "markdown",
   "metadata": {
    "id": "qaNWW0BYBtA_"
   },
   "source": [
    "# QUESTION 20: \n",
    "In a brief paragraph explain how the helper code base is performing feature\n",
    "extraction.\n",
    "### A:  The helper code uses a pretrained VGG16 modeled. Where VGG16 refers to a VGG model with 16 weight layers. It first resize the image into  224 x 224 for VGG16 to extract features. The steps of extracting features includes extract VGG-16 Feature Layers, extract VGG-16 Average Pooling Layer, converting the image into one-dimensional vector, then extract the first part of fully-connected layer from VGG16."
   ]
  },
  {
   "cell_type": "markdown",
   "metadata": {
    "id": "9MT9naQuB6vB"
   },
   "source": [
    "# QUESTION 21: \n",
    "How many pixels are there in the original images? How many features does\n",
    "the VGG network extract per image; i.e what is the dimension of each feature vector for an image\n",
    "sample?\n",
    "### A: There pixels in the original images are not identical, however the images were resize into the same shape 224 x 224 . And there are 4096 features extracted per image with the VGG network."
   ]
  },
  {
   "cell_type": "code",
   "execution_count": 3,
   "metadata": {
    "colab": {
     "base_uri": "https://localhost:8080/"
    },
    "id": "VozZWMzx5HnH",
    "outputId": "af5145b8-c9f9-4e5a-9a58-b5df5c5f2dc7"
   },
   "outputs": [
    {
     "name": "stdout",
     "output_type": "stream",
     "text": [
      "(3670, 4096) (3670,)\n"
     ]
    }
   ],
   "source": [
    "print(f_all.shape, y_all.shape)\n",
    "num_features = f_all.shape[1]"
   ]
  },
  {
   "cell_type": "markdown",
   "metadata": {
    "id": "ndRJr-JLNcR8"
   },
   "source": [
    "# QUESTION 22: \n",
    "Are the extracted features dense or sparse? (Compare with sparse TF-IDF\n",
    "features in text.)\n",
    "\n",
    "### A: Comparing to the sparse TF-IDF features, the extracted feature is dense since there are no nonzero in the entities."
   ]
  },
  {
   "cell_type": "code",
   "execution_count": 4,
   "metadata": {
    "colab": {
     "base_uri": "https://localhost:8080/"
    },
    "id": "6qQ-LFL9NaAA",
    "outputId": "69afa8a1-7421-4b86-e58d-3e0729dd312e"
   },
   "outputs": [
    {
     "data": {
      "text/plain": [
       "0"
      ]
     },
     "execution_count": 4,
     "metadata": {},
     "output_type": "execute_result"
    }
   ],
   "source": [
    "f_all.size - np.count_nonzero(f_all)"
   ]
  },
  {
   "cell_type": "code",
   "execution_count": 5,
   "metadata": {
    "colab": {
     "base_uri": "https://localhost:8080/",
     "height": 283
    },
    "id": "JRHtHyRB5Thr",
    "outputId": "bedad97a-0f24-45b3-b4dd-ab67e4366eb7"
   },
   "outputs": [
    {
     "data": {
      "text/plain": [
       "<matplotlib.collections.PathCollection at 0x7f27d6bccf40>"
      ]
     },
     "execution_count": 5,
     "metadata": {},
     "output_type": "execute_result"
    },
    {
     "data": {
      "image/png": "[encoded data removed]",
      "text/plain": [
       "<Figure size 432x288 with 1 Axes>"
      ]
     },
     "metadata": {
      "needs_background": "light"
     },
     "output_type": "display_data"
    }
   ],
   "source": [
    "f_pca = PCA(n_components=2).fit_transform(f_all)\n",
    "plt.scatter(*f_pca.T, c=y_all)"
   ]
  },
  {
   "cell_type": "markdown",
   "metadata": {
    "id": "eggdVRCfPGUS"
   },
   "source": [
    "# QUESTION 23: \n",
    "In order to inspect the high-dimensional features, t-SNE is a popular off-the-shelf\n",
    "choice for visualizing Vision features. Map the features you have extracted onto 2 dimensions with\n",
    "t-SNE. Then plot the mapped feature vectors along x and y axes. Color-code the data points with\n",
    "ground-truth labels. Describe your observation.\n",
    "\n",
    "### A: According to the plot using t-SNE below, we can see that the digits are more clearly clustered in their own sub groups . If we used a clustering algorithm to pick out the separate clusters, we could probably quite accurately assign new points to a label. This is already a significant improvement over the PCA visualization we used earlier. "
   ]
  },
  {
   "cell_type": "code",
   "execution_count": 6,
   "metadata": {
    "colab": {
     "base_uri": "https://localhost:8080/",
     "height": 283
    },
    "id": "kQP9fBPFUhWO",
    "outputId": "a8c548d8-749a-4861-bdc9-e72508ee8bc5"
   },
   "outputs": [
    {
     "data": {
      "text/plain": [
       "<matplotlib.collections.PathCollection at 0x7f27d6107b80>"
      ]
     },
     "execution_count": 6,
     "metadata": {},
     "output_type": "execute_result"
    },
    {
     "data": {
      "image/png": "[encoded data removed]",
      "text/plain": [
       "<Figure size 432x288 with 1 Axes>"
      ]
     },
     "metadata": {
      "needs_background": "light"
     },
     "output_type": "display_data"
    }
   ],
   "source": [
    "from sklearn.manifold import TSNE\n",
    "f_tsne = TSNE(n_components=2, learning_rate='auto', init='random').fit_transform(f_all)\n",
    "plt.scatter(*f_tsne.T, c=y_all)"
   ]
  },
  {
   "cell_type": "markdown",
   "metadata": {
    "id": "o52xOj_q83Dj"
   },
   "source": [
    "# MLP Classifier\n"
   ]
  },
  {
   "cell_type": "code",
   "execution_count": 13,
   "metadata": {
    "id": "ja25U5It8n-q"
   },
   "outputs": [],
   "source": [
    "\n",
    "class MLP(torch.nn.Module):\n",
    "    def __init__(self, num_features):\n",
    "        super().__init__()\n",
    "        self.model = nn.Sequential(\n",
    "            nn.Linear(num_features, 1280),\n",
    "            nn.ReLU(True),\n",
    "            nn.Linear(1280, 640),\n",
    "            nn.ReLU(True), \n",
    "            nn.Linear(640, 5),\n",
    "            nn.LogSoftmax(dim=1)\n",
    "        )\n",
    "        self.cuda()\n",
    "    \n",
    "    \n",
    "    def forward(self, X):\n",
    "        return self.model(X)\n",
    "    \n",
    "    def train(self, X, y):\n",
    "        X = torch.tensor(X, dtype=torch.float32, device='cuda')\n",
    "        y = torch.tensor(y, dtype=torch.int64, device='cuda')\n",
    "\n",
    "        self.model.train()\n",
    "        \n",
    "        criterion = nn.NLLLoss()\n",
    "        optimizer = torch.optim.Adam(self.parameters(), lr=1e-3, weight_decay=1e-5)\n",
    "\n",
    "        dataset = TensorDataset(X, y)\n",
    "        dataloader = DataLoader(dataset, batch_size=128, shuffle=True)\n",
    "\n",
    "        for epoch in tqdm(range(100)):\n",
    "            for (X_, y_) in dataloader:\n",
    "\n",
    "              optimizer.zero_grad()\n",
    "              outputs = self(X_)\n",
    "\n",
    "              loss = criterion(outputs, y_)\n",
    "              loss.backward()\n",
    "              optimizer.step()\n",
    "\n",
    "        return self\n",
    "    \n",
    "    def eval(self, X_test, y_test):\n",
    "        ##################################\n",
    "        # you should implement this part #\n",
    "        ##################################\n",
    "        X = torch.tensor(X_test, dtype=torch.float32, device='cuda')\n",
    "        y = torch.tensor(y_test, dtype=torch.int64, device='cuda')\n",
    "\n",
    "        criterion = nn.NLLLoss()\n",
    "        dataset = TensorDataset(X, y)\n",
    "\n",
    "        dataset = TensorDataset(X, y)\n",
    "        dataloader = DataLoader(dataset, batch_size=100, shuffle=True)\n",
    "\n",
    "        total = 0 \n",
    "        corr = 0 \n",
    "\n",
    "        with torch.no_grad():\n",
    "          for (X,y) in dataloader : \n",
    "            output = self.model(X)\n",
    "            _,pred = torch.max(output,1)\n",
    "            total += y.size(0)\n",
    "            corr  += (pred==y).sum().item()\n",
    "\n",
    "        accuracy = (corr/total)*100 \n",
    "      \n",
    "        return accuracy"
   ]
  },
  {
   "cell_type": "markdown",
   "metadata": {
    "id": "WOfOWHRC8yz-"
   },
   "source": [
    "# Autoencoder"
   ]
  },
  {
   "cell_type": "code",
   "execution_count": 22,
   "metadata": {
    "id": "E5fQ9Kpu8w_b"
   },
   "outputs": [],
   "source": [
    "class Autoencoder(torch.nn.Module, TransformerMixin):\n",
    "    def __init__(self, n_components):\n",
    "        super().__init__()\n",
    "        self.n_components = n_components\n",
    "        self.n_features = None  # to be determined with data\n",
    "        self.encoder = None\n",
    "        self.decoder = None\n",
    "        \n",
    "    def _create_encoder(self):\n",
    "        return nn.Sequential(\n",
    "            nn.Linear(4096, 1280),\n",
    "            nn.ReLU(True),\n",
    "            nn.Linear(1280, 640),\n",
    "            nn.ReLU(True), nn.Linear(640, 120), nn.ReLU(True), nn.Linear(120, self.n_components))\n",
    "    \n",
    "    def _create_decoder(self):\n",
    "        return nn.Sequential(\n",
    "            nn.Linear(self.n_components, 120),\n",
    "            nn.ReLU(True),\n",
    "            nn.Linear(120, 640),\n",
    "            nn.ReLU(True),\n",
    "            nn.Linear(640, 1280),\n",
    "            nn.ReLU(True), nn.Linear(1280, 4096))\n",
    "    \n",
    "    def forward(self, X):\n",
    "        encoded = self.encoder(X)\n",
    "        decoded = self.decoder(encoded)\n",
    "        return decoded\n",
    "    \n",
    "    def fit(self, X):\n",
    "        X = torch.tensor(X, dtype=torch.float32, device='cuda')\n",
    "        self.n_features = X.shape[1]\n",
    "        self.encoder = self._create_encoder()\n",
    "        self.decoder = self._create_decoder()\n",
    "        self.cuda()\n",
    "        self.train()\n",
    "        \n",
    "        criterion = nn.MSELoss()\n",
    "        optimizer = torch.optim.Adam(self.parameters(), lr=1e-3, weight_decay=1e-5)\n",
    "\n",
    "        dataset = TensorDataset(X)\n",
    "        dataloader = DataLoader(dataset, batch_size=128, shuffle=True)\n",
    "\n",
    "        for epoch in tqdm(range(100)):\n",
    "            for (X_,) in dataloader:\n",
    "                X_ = X_.cuda()\n",
    "                # ===================forward=====================\n",
    "                output = self(X_)\n",
    "                loss = criterion(output, X_)\n",
    "                # ===================backward====================\n",
    "                optimizer.zero_grad()\n",
    "                loss.backward()\n",
    "                optimizer.step()\n",
    "\n",
    "        return self     \n",
    "        \n",
    "    def transform(self, X):\n",
    "        X = torch.tensor(X, dtype=torch.float32, device='cuda')\n",
    "        self.eval()\n",
    "        with torch.no_grad():\n",
    "            return self.encoder(X).cpu().numpy()"
   ]
  },
  {
   "cell_type": "code",
   "execution_count": 26,
   "metadata": {
    "colab": {
     "base_uri": "https://localhost:8080/"
    },
    "id": "vRD1sYsLGVR8",
    "outputId": "c41772c1-c26a-4666-ba20-79a426897718"
   },
   "outputs": [
    {
     "name": "stdout",
     "output_type": "stream",
     "text": [
      "Looking in indexes: https://pypi.org/simple, https://us-python.pkg.dev/colab-wheels/public/simple/\n",
      "Requirement already satisfied: umap in /usr/local/lib/python3.8/dist-packages (0.1.1)\n",
      "Looking in indexes: https://pypi.org/simple, https://us-python.pkg.dev/colab-wheels/public/simple/\n",
      "Requirement already satisfied: umap-learn in /usr/local/lib/python3.8/dist-packages (0.5.3)\n",
      "Requirement already satisfied: pynndescent>=0.5 in /usr/local/lib/python3.8/dist-packages (from umap-learn) (0.5.8)\n",
      "Requirement already satisfied: numba>=0.49 in /usr/local/lib/python3.8/dist-packages (from umap-learn) (0.56.4)\n",
      "Requirement already satisfied: scikit-learn>=0.22 in /usr/local/lib/python3.8/dist-packages (from umap-learn) (1.0.2)\n",
      "Requirement already satisfied: tqdm in /usr/local/lib/python3.8/dist-packages (from umap-learn) (4.64.1)\n",
      "Requirement already satisfied: scipy>=1.0 in /usr/local/lib/python3.8/dist-packages (from umap-learn) (1.7.3)\n",
      "Requirement already satisfied: numpy>=1.17 in /usr/local/lib/python3.8/dist-packages (from umap-learn) (1.21.6)\n",
      "Requirement already satisfied: llvmlite<0.40,>=0.39.0dev0 in /usr/local/lib/python3.8/dist-packages (from numba>=0.49->umap-learn) (0.39.1)\n",
      "Requirement already satisfied: importlib-metadata in /usr/local/lib/python3.8/dist-packages (from numba>=0.49->umap-learn) (6.0.0)\n",
      "Requirement already satisfied: setuptools in /usr/local/lib/python3.8/dist-packages (from numba>=0.49->umap-learn) (57.4.0)\n",
      "Requirement already satisfied: joblib>=0.11 in /usr/local/lib/python3.8/dist-packages (from pynndescent>=0.5->umap-learn) (1.2.0)\n",
      "Requirement already satisfied: threadpoolctl>=2.0.0 in /usr/local/lib/python3.8/dist-packages (from scikit-learn>=0.22->umap-learn) (3.1.0)\n",
      "Requirement already satisfied: zipp>=0.5 in /usr/local/lib/python3.8/dist-packages (from importlib-metadata->numba>=0.49->umap-learn) (3.12.0)\n",
      "Looking in indexes: https://pypi.org/simple, https://us-python.pkg.dev/colab-wheels/public/simple/\n",
      "Requirement already satisfied: hdbscan in /usr/local/lib/python3.8/dist-packages (0.8.29)\n",
      "Requirement already satisfied: joblib>=1.0 in /usr/local/lib/python3.8/dist-packages (from hdbscan) (1.2.0)\n",
      "Requirement already satisfied: scipy>=1.0 in /usr/local/lib/python3.8/dist-packages (from hdbscan) (1.7.3)\n",
      "Requirement already satisfied: scikit-learn>=0.20 in /usr/local/lib/python3.8/dist-packages (from hdbscan) (1.0.2)\n",
      "Requirement already satisfied: numpy>=1.20 in /usr/local/lib/python3.8/dist-packages (from hdbscan) (1.21.6)\n",
      "Requirement already satisfied: cython>=0.27 in /usr/local/lib/python3.8/dist-packages (from hdbscan) (0.29.33)\n",
      "Requirement already satisfied: threadpoolctl>=2.0.0 in /usr/local/lib/python3.8/dist-packages (from scikit-learn>=0.20->hdbscan) (3.1.0)\n"
     ]
    }
   ],
   "source": [
    "from sklearn.cluster import AgglomerativeClustering\n",
    "from sklearn.decomposition import TruncatedSVD, NMF\n",
    "from sklearn.utils.extmath import randomized_svd\n",
    "!pip install umap\n",
    "!pip install umap-learn\n",
    "import umap.umap_ as umap\n",
    "!pip install hdbscan\n",
    "import hdbscan\n",
    "import pandas as pd\n"
   ]
  },
  {
   "cell_type": "markdown",
   "metadata": {
    "id": "ZqVLxplRGWLe"
   },
   "source": [
    "#QUESTION 24:\n",
    "Report the best result (in terms of rand score) within the table below.\n",
    "For HDBSCAN, introduce a conservative parameter grid over min cluster size and min samples. \n",
    "### Here we set min_cluster_size and min_samples to 5 \n",
    "\n",
    "### A: According to the results below we could find out that the top 3 best results are the followings\n",
    "### 1.UMAP(metric='cosine', n_components=50), KMeans(max_iter=1000, n_clusters=5, n_init=30, random_state=0) \n",
    "\n",
    "### Adjusted Rand Score:  0.46505860677140987\n",
    "\n",
    "### 2.UMAP(metric='cosine', n_components=50), AgglomerativeClustering(n_clusters=5)\n",
    "### Adjusted Rand Score:  0.4484857156148361\n",
    "\n",
    "### 3. Autoencoder(50)\tAgglomerativeClustering(n_clusters=5)\n",
    "### Adjusted Rand Score: 0.276835"
   ]
  },
  {
   "cell_type": "code",
   "execution_count": 12,
   "metadata": {
    "colab": {
     "base_uri": "https://localhost:8080/"
    },
    "id": "w7UB7iRYTDJn",
    "outputId": "1c579160-2083-4b46-d321-4d4376c20859"
   },
   "outputs": [
    {
     "name": "stdout",
     "output_type": "stream",
     "text": [
      "None, KMeans(max_iter=1000, n_clusters=5, n_init=30, random_state=0)\n",
      "Adjusted Rand Score:  0.19468200056257093\n",
      "None, AgglomerativeClustering(n_clusters=5)\n",
      "Adjusted Rand Score:  0.18855278251971858\n",
      "None, HDBSCAN(min_samples=5)\n",
      "Adjusted Rand Score:  0.006705947729476718\n",
      "TruncatedSVD(n_components=50, random_state=42), KMeans(max_iter=1000, n_clusters=5, n_init=30, random_state=0)\n",
      "Adjusted Rand Score:  0.19124776241548638\n",
      "TruncatedSVD(n_components=50, random_state=42), AgglomerativeClustering(n_clusters=5)\n",
      "Adjusted Rand Score:  0.25287434471967624\n",
      "TruncatedSVD(n_components=50, random_state=42), HDBSCAN(min_samples=5)\n",
      "Adjusted Rand Score:  0.005231761020183455\n",
      "UMAP(angular_rp_forest=True, metric='cosine', n_components=50, tqdm_kwds={'bar_format': '{desc}: {percentage:3.0f}%| {bar} {n_fmt}/{total_fmt} [{elapsed}]', 'desc': 'Epochs completed', 'disable': True}), KMeans(max_iter=1000, n_clusters=5, n_init=30, random_state=0)\n",
      "Adjusted Rand Score:  0.46505860677140987\n",
      "UMAP(angular_rp_forest=True, metric='cosine', n_components=50, tqdm_kwds={'bar_format': '{desc}: {percentage:3.0f}%| {bar} {n_fmt}/{total_fmt} [{elapsed}]', 'desc': 'Epochs completed', 'disable': True}), AgglomerativeClustering(n_clusters=5)\n",
      "Adjusted Rand Score:  0.4484857156148361\n",
      "UMAP(angular_rp_forest=True, metric='cosine', n_components=50, tqdm_kwds={'bar_format': '{desc}: {percentage:3.0f}%| {bar} {n_fmt}/{total_fmt} [{elapsed}]', 'desc': 'Epochs completed', 'disable': True}), HDBSCAN(min_samples=5)\n",
      "Adjusted Rand Score:  0.09494009559863244\n"
     ]
    },
    {
     "name": "stderr",
     "output_type": "stream",
     "text": [
      "100%|██████████| 100/100 [00:22<00:00,  4.47it/s]\n"
     ]
    },
    {
     "name": "stdout",
     "output_type": "stream",
     "text": [
      "Autoencoder(\n",
      "  (encoder): Sequential(\n",
      "    (0): Linear(in_features=4096, out_features=1280, bias=True)\n",
      "    (1): ReLU(inplace=True)\n",
      "    (2): Linear(in_features=1280, out_features=640, bias=True)\n",
      "    (3): ReLU(inplace=True)\n",
      "    (4): Linear(in_features=640, out_features=120, bias=True)\n",
      "    (5): ReLU(inplace=True)\n",
      "    (6): Linear(in_features=120, out_features=50, bias=True)\n",
      "  )\n",
      "  (decoder): Sequential(\n",
      "    (0): Linear(in_features=50, out_features=120, bias=True)\n",
      "    (1): ReLU(inplace=True)\n",
      "    (2): Linear(in_features=120, out_features=640, bias=True)\n",
      "    (3): ReLU(inplace=True)\n",
      "    (4): Linear(in_features=640, out_features=1280, bias=True)\n",
      "    (5): ReLU(inplace=True)\n",
      "    (6): Linear(in_features=1280, out_features=4096, bias=True)\n",
      "  )\n",
      "), KMeans(max_iter=1000, n_clusters=5, n_init=30, random_state=0)\n",
      "Adjusted Rand Score:  0.21392776971951044\n"
     ]
    },
    {
     "name": "stderr",
     "output_type": "stream",
     "text": [
      "100%|██████████| 100/100 [00:22<00:00,  4.47it/s]\n"
     ]
    },
    {
     "name": "stdout",
     "output_type": "stream",
     "text": [
      "Autoencoder(\n",
      "  (encoder): Sequential(\n",
      "    (0): Linear(in_features=4096, out_features=1280, bias=True)\n",
      "    (1): ReLU(inplace=True)\n",
      "    (2): Linear(in_features=1280, out_features=640, bias=True)\n",
      "    (3): ReLU(inplace=True)\n",
      "    (4): Linear(in_features=640, out_features=120, bias=True)\n",
      "    (5): ReLU(inplace=True)\n",
      "    (6): Linear(in_features=120, out_features=50, bias=True)\n",
      "  )\n",
      "  (decoder): Sequential(\n",
      "    (0): Linear(in_features=50, out_features=120, bias=True)\n",
      "    (1): ReLU(inplace=True)\n",
      "    (2): Linear(in_features=120, out_features=640, bias=True)\n",
      "    (3): ReLU(inplace=True)\n",
      "    (4): Linear(in_features=640, out_features=1280, bias=True)\n",
      "    (5): ReLU(inplace=True)\n",
      "    (6): Linear(in_features=1280, out_features=4096, bias=True)\n",
      "  )\n",
      "), AgglomerativeClustering(n_clusters=5)\n",
      "Adjusted Rand Score:  0.27683501986665715\n"
     ]
    },
    {
     "name": "stderr",
     "output_type": "stream",
     "text": [
      "100%|██████████| 100/100 [00:22<00:00,  4.46it/s]\n"
     ]
    },
    {
     "name": "stdout",
     "output_type": "stream",
     "text": [
      "Autoencoder(\n",
      "  (encoder): Sequential(\n",
      "    (0): Linear(in_features=4096, out_features=1280, bias=True)\n",
      "    (1): ReLU(inplace=True)\n",
      "    (2): Linear(in_features=1280, out_features=640, bias=True)\n",
      "    (3): ReLU(inplace=True)\n",
      "    (4): Linear(in_features=640, out_features=120, bias=True)\n",
      "    (5): ReLU(inplace=True)\n",
      "    (6): Linear(in_features=120, out_features=50, bias=True)\n",
      "  )\n",
      "  (decoder): Sequential(\n",
      "    (0): Linear(in_features=50, out_features=120, bias=True)\n",
      "    (1): ReLU(inplace=True)\n",
      "    (2): Linear(in_features=120, out_features=640, bias=True)\n",
      "    (3): ReLU(inplace=True)\n",
      "    (4): Linear(in_features=640, out_features=1280, bias=True)\n",
      "    (5): ReLU(inplace=True)\n",
      "    (6): Linear(in_features=1280, out_features=4096, bias=True)\n",
      "  )\n",
      "), HDBSCAN(min_samples=5)\n",
      "Adjusted Rand Score:  0.023707912767962632\n"
     ]
    }
   ],
   "source": [
    "df = pd.DataFrame(columns = ['Dimentionality Reduction','Clustering','Adjusted Rand score'])\n",
    "reduce_dim = [TruncatedSVD(n_components=50, random_state=42), \n",
    "               umap.UMAP(n_components=50, metric='cosine'),\n",
    "               Autoencoder(50)]\n",
    "\n",
    "clustering = [KMeans( max_iter=1000, n_clusters=5, n_init=30, random_state=0),\n",
    "                AgglomerativeClustering(n_clusters=5),\n",
    "                hdbscan.HDBSCAN(min_cluster_size = 5,min_samples = 5)]  \n",
    "for j in range(len(clustering)):\n",
    "        cluster = clustering[j]\n",
    "        result = cluster.fit_predict(f_all)\n",
    "        rand = adjusted_rand_score(y_all, result)\n",
    "        df.loc[len(df.index)] = ['None',str(clustering[j]), rand] \n",
    "        print(\"None, \"+str(clustering[j]))\n",
    "        print(\"Adjusted Rand Score: \", rand)\n",
    "        \n",
    "for i in range(3):\n",
    "    for j in range(len(clustering)):\n",
    "        \n",
    "        reduce = reduce_dim[i]\n",
    "        red_vec = reduce.fit_transform(f_all)\n",
    "        cluster = clustering[j]\n",
    "        result = cluster.fit_predict(red_vec)\n",
    "        rand = adjusted_rand_score(y_all, result)\n",
    "        df.loc[len(df.index)] = [ str(reduce_dim[i]) ,str(clustering[j]), rand] \n",
    "        print(str(reduce_dim[i])+\", \"+str(clustering[j]))\n",
    "        print(\"Adjusted Rand Score: \", rand)"
   ]
  },
  {
   "cell_type": "code",
   "execution_count": 15,
   "metadata": {
    "colab": {
     "base_uri": "https://localhost:8080/",
     "height": 426
    },
    "id": "mVZhkdezoGy3",
    "outputId": "74db0123-272f-44d5-dc89-9af9a123d25b"
   },
   "outputs": [
    {
     "data": {
      "text/html": [
       "\n",
       "  <div id=\"df-8b4d2a3a-4c19-41fc-a1cd-86258eca52c3\">\n",
       "    <div class=\"colab-df-container\">\n",
       "      <div>\n",
       "<style scoped>\n",
       "    .dataframe tbody tr th:only-of-type {\n",
       "        vertical-align: middle;\n",
       "    }\n",
       "\n",
       "    .dataframe tbody tr th {\n",
       "        vertical-align: top;\n",
       "    }\n",
       "\n",
       "    .dataframe thead th {\n",
       "        text-align: right;\n",
       "    }\n",
       "</style>\n",
       "<table border=\"1\" class=\"dataframe\">\n",
       "  <thead>\n",
       "    <tr style=\"text-align: right;\">\n",
       "      <th></th>\n",
       "      <th>Dimentionality Reduction</th>\n",
       "      <th>Clustering</th>\n",
       "      <th>Adjusted Rand score</th>\n",
       "    </tr>\n",
       "  </thead>\n",
       "  <tbody>\n",
       "    <tr>\n",
       "      <th>6</th>\n",
       "      <td>UMAP(angular_rp_forest=True, metric='cosine', ...</td>\n",
       "      <td>KMeans(max_iter=1000, n_clusters=5, n_init=30,...</td>\n",
       "      <td>0.465059</td>\n",
       "    </tr>\n",
       "    <tr>\n",
       "      <th>7</th>\n",
       "      <td>UMAP(angular_rp_forest=True, metric='cosine', ...</td>\n",
       "      <td>AgglomerativeClustering(n_clusters=5)</td>\n",
       "      <td>0.448486</td>\n",
       "    </tr>\n",
       "    <tr>\n",
       "      <th>10</th>\n",
       "      <td>Autoencoder(\\n  (encoder): Sequential(\\n    (0...</td>\n",
       "      <td>AgglomerativeClustering(n_clusters=5)</td>\n",
       "      <td>0.276835</td>\n",
       "    </tr>\n",
       "    <tr>\n",
       "      <th>4</th>\n",
       "      <td>TruncatedSVD(n_components=50, random_state=42)</td>\n",
       "      <td>AgglomerativeClustering(n_clusters=5)</td>\n",
       "      <td>0.252874</td>\n",
       "    </tr>\n",
       "    <tr>\n",
       "      <th>9</th>\n",
       "      <td>Autoencoder(\\n  (encoder): Sequential(\\n    (0...</td>\n",
       "      <td>KMeans(max_iter=1000, n_clusters=5, n_init=30,...</td>\n",
       "      <td>0.213928</td>\n",
       "    </tr>\n",
       "    <tr>\n",
       "      <th>0</th>\n",
       "      <td>None</td>\n",
       "      <td>KMeans(max_iter=1000, n_clusters=5, n_init=30,...</td>\n",
       "      <td>0.194682</td>\n",
       "    </tr>\n",
       "    <tr>\n",
       "      <th>3</th>\n",
       "      <td>TruncatedSVD(n_components=50, random_state=42)</td>\n",
       "      <td>KMeans(max_iter=1000, n_clusters=5, n_init=30,...</td>\n",
       "      <td>0.191248</td>\n",
       "    </tr>\n",
       "    <tr>\n",
       "      <th>1</th>\n",
       "      <td>None</td>\n",
       "      <td>AgglomerativeClustering(n_clusters=5)</td>\n",
       "      <td>0.188553</td>\n",
       "    </tr>\n",
       "    <tr>\n",
       "      <th>8</th>\n",
       "      <td>UMAP(angular_rp_forest=True, metric='cosine', ...</td>\n",
       "      <td>HDBSCAN(min_samples=5)</td>\n",
       "      <td>0.094940</td>\n",
       "    </tr>\n",
       "    <tr>\n",
       "      <th>11</th>\n",
       "      <td>Autoencoder(\\n  (encoder): Sequential(\\n    (0...</td>\n",
       "      <td>HDBSCAN(min_samples=5)</td>\n",
       "      <td>0.023708</td>\n",
       "    </tr>\n",
       "    <tr>\n",
       "      <th>2</th>\n",
       "      <td>None</td>\n",
       "      <td>HDBSCAN(min_samples=5)</td>\n",
       "      <td>0.006706</td>\n",
       "    </tr>\n",
       "    <tr>\n",
       "      <th>5</th>\n",
       "      <td>TruncatedSVD(n_components=50, random_state=42)</td>\n",
       "      <td>HDBSCAN(min_samples=5)</td>\n",
       "      <td>0.005232</td>\n",
       "    </tr>\n",
       "  </tbody>\n",
       "</table>\n",
       "</div>\n",
       "      <button class=\"colab-df-convert\" onclick=\"convertToInteractive('df-8b4d2a3a-4c19-41fc-a1cd-86258eca52c3')\"\n",
       "              title=\"Convert this dataframe to an interactive table.\"\n",
       "              style=\"display:none;\">\n",
       "        \n",
       "  <svg xmlns=\"http://www.w3.org/2000/svg\" height=\"24px\"viewBox=\"0 0 24 24\"\n",
       "       width=\"24px\">\n",
       "    <path d=\"M0 0h24v24H0V0z\" fill=\"none\"/>\n",
       "    <path d=\"M18.56 5.44l.94 2.06.94-2.06 2.06-.94-2.06-.94-.94-2.06-.94 2.06-2.06.94zm-11 1L8.5 8.5l.94-2.06 2.06-.94-2.06-.94L8.5 2.5l-.94 2.06-2.06.94zm10 10l.94 2.06.94-2.06 2.06-.94-2.06-.94-.94-2.06-.94 2.06-2.06.94z\"/><path d=\"M17.41 7.96l-1.37-1.37c-.4-.4-.92-.59-1.43-.59-.52 0-1.04.2-1.43.59L10.3 9.45l-7.72 7.72c-.78.78-.78 2.05 0 2.83L4 21.41c.39.39.9.59 1.41.59.51 0 1.02-.2 1.41-.59l7.78-7.78 2.81-2.81c.8-.78.8-2.07 0-2.86zM5.41 20L4 18.59l7.72-7.72 1.47 1.35L5.41 20z\"/>\n",
       "  </svg>\n",
       "      </button>\n",
       "      \n",
       "  <style>\n",
       "    .colab-df-container {\n",
       "      display:flex;\n",
       "      flex-wrap:wrap;\n",
       "      gap: 12px;\n",
       "    }\n",
       "\n",
       "    .colab-df-convert {\n",
       "      background-color: #E8F0FE;\n",
       "      border: none;\n",
       "      border-radius: 50%;\n",
       "      cursor: pointer;\n",
       "      display: none;\n",
       "      fill: #1967D2;\n",
       "      height: 32px;\n",
       "      padding: 0 0 0 0;\n",
       "      width: 32px;\n",
       "    }\n",
       "\n",
       "    .colab-df-convert:hover {\n",
       "      background-color: #E2EBFA;\n",
       "      box-shadow: 0px 1px 2px rgba(60, 64, 67, 0.3), 0px 1px 3px 1px rgba(60, 64, 67, 0.15);\n",
       "      fill: #174EA6;\n",
       "    }\n",
       "\n",
       "    [theme=dark] .colab-df-convert {\n",
       "      background-color: #3B4455;\n",
       "      fill: #D2E3FC;\n",
       "    }\n",
       "\n",
       "    [theme=dark] .colab-df-convert:hover {\n",
       "      background-color: #434B5C;\n",
       "      box-shadow: 0px 1px 3px 1px rgba(0, 0, 0, 0.15);\n",
       "      filter: drop-shadow(0px 1px 2px rgba(0, 0, 0, 0.3));\n",
       "      fill: #FFFFFF;\n",
       "    }\n",
       "  </style>\n",
       "\n",
       "      <script>\n",
       "        const buttonEl =\n",
       "          document.querySelector('#df-8b4d2a3a-4c19-41fc-a1cd-86258eca52c3 button.colab-df-convert');\n",
       "        buttonEl.style.display =\n",
       "          google.colab.kernel.accessAllowed ? 'block' : 'none';\n",
       "\n",
       "        async function convertToInteractive(key) {\n",
       "          const element = document.querySelector('#df-8b4d2a3a-4c19-41fc-a1cd-86258eca52c3');\n",
       "          const dataTable =\n",
       "            await google.colab.kernel.invokeFunction('convertToInteractive',\n",
       "                                                     [key], {});\n",
       "          if (!dataTable) return;\n",
       "\n",
       "          const docLinkHtml = 'Like what you see? Visit the ' +\n",
       "            '<a target=\"_blank\" href=https://colab.research.google.com/notebooks/data_table.ipynb>data table notebook</a>'\n",
       "            + ' to learn more about interactive tables.';\n",
       "          element.innerHTML = '';\n",
       "          dataTable['output_type'] = 'display_data';\n",
       "          await google.colab.output.renderOutput(dataTable, element);\n",
       "          const docLink = document.createElement('div');\n",
       "          docLink.innerHTML = docLinkHtml;\n",
       "          element.appendChild(docLink);\n",
       "        }\n",
       "      </script>\n",
       "    </div>\n",
       "  </div>\n",
       "  "
      ],
      "text/plain": [
       "                             Dimentionality Reduction  \\\n",
       "6   UMAP(angular_rp_forest=True, metric='cosine', ...   \n",
       "7   UMAP(angular_rp_forest=True, metric='cosine', ...   \n",
       "10  Autoencoder(\\n  (encoder): Sequential(\\n    (0...   \n",
       "4      TruncatedSVD(n_components=50, random_state=42)   \n",
       "9   Autoencoder(\\n  (encoder): Sequential(\\n    (0...   \n",
       "0                                                None   \n",
       "3      TruncatedSVD(n_components=50, random_state=42)   \n",
       "1                                                None   \n",
       "8   UMAP(angular_rp_forest=True, metric='cosine', ...   \n",
       "11  Autoencoder(\\n  (encoder): Sequential(\\n    (0...   \n",
       "2                                                None   \n",
       "5      TruncatedSVD(n_components=50, random_state=42)   \n",
       "\n",
       "                                           Clustering  Adjusted Rand score  \n",
       "6   KMeans(max_iter=1000, n_clusters=5, n_init=30,...             0.465059  \n",
       "7               AgglomerativeClustering(n_clusters=5)             0.448486  \n",
       "10              AgglomerativeClustering(n_clusters=5)             0.276835  \n",
       "4               AgglomerativeClustering(n_clusters=5)             0.252874  \n",
       "9   KMeans(max_iter=1000, n_clusters=5, n_init=30,...             0.213928  \n",
       "0   KMeans(max_iter=1000, n_clusters=5, n_init=30,...             0.194682  \n",
       "3   KMeans(max_iter=1000, n_clusters=5, n_init=30,...             0.191248  \n",
       "1               AgglomerativeClustering(n_clusters=5)             0.188553  \n",
       "8                              HDBSCAN(min_samples=5)             0.094940  \n",
       "11                             HDBSCAN(min_samples=5)             0.023708  \n",
       "2                              HDBSCAN(min_samples=5)             0.006706  \n",
       "5                              HDBSCAN(min_samples=5)             0.005232  "
      ]
     },
     "execution_count": 15,
     "metadata": {},
     "output_type": "execute_result"
    }
   ],
   "source": [
    "df.sort_values(by='Adjusted Rand score',ascending=False)"
   ]
  },
  {
   "cell_type": "code",
   "execution_count": 19,
   "metadata": {
    "colab": {
     "base_uri": "https://localhost:8080/"
    },
    "id": "Kzd8Z-MpKhZS",
    "outputId": "d1b10571-95ec-4b56-e978-3f8504d35ccd"
   },
   "outputs": [
    {
     "data": {
      "text/plain": [
       "(4096,)"
      ]
     },
     "execution_count": 19,
     "metadata": {},
     "output_type": "execute_result"
    }
   ],
   "source": [
    "f_all[1].shape"
   ]
  },
  {
   "cell_type": "markdown",
   "metadata": {
    "id": "6PlZTGgTGemp"
   },
   "source": [
    "#QUESTION 25: \n",
    "Report the test accuracy of the MLP classifier on the original VGG features.\n",
    "Report the same when using the reduced-dimension features (you have freedom in choosing the\n",
    "dimensionality reduction algorithm and its parameters). Does the performance of the model suffer\n",
    "with the reduced-dimension representations? Is it significant? Does the success in classification\n",
    "make sense in the context of the clustering results obtained for the same features in Question 24.\n",
    "\n",
    "### A: I test on the following three results, which is:\n",
    "### 1.MLP on VGG without reduced-dimension, Accurracy: 90.46321525885558\n",
    "### 2.MLP on VGG with UMAP (n_components = 50, metric = 'cosine') reduction, Accuracy : 84.87738419618529\n",
    "### 3.MLP on VGG with Autoencoder(50) reduction, Accuracy : 87.60217983651226\n",
    "\n",
    "### Base on the results, we can observe that the performance of the model suffer with the reduced-dimension representations. However, it is not very significant with about at most 5% of accuracy. Also, since MLP learns compless features and predicts the classes based on learning, and clustering models predict classes based on distance, it is likely that MLP is better on complex data."
   ]
  },
  {
   "cell_type": "code",
   "execution_count": 27,
   "metadata": {
    "colab": {
     "base_uri": "https://localhost:8080/"
    },
    "id": "7-FA1vPuGt1l",
    "outputId": "bc487201-1018-4a38-9164-afd29d9dd409"
   },
   "outputs": [
    {
     "name": "stderr",
     "output_type": "stream",
     "text": [
      "100%|██████████| 100/100 [00:14<00:00,  6.79it/s]\n"
     ]
    },
    {
     "name": "stdout",
     "output_type": "stream",
     "text": [
      "MLP on VGG without reduced-dimension, Accurracy: 90.46321525885558\n"
     ]
    },
    {
     "name": "stderr",
     "output_type": "stream",
     "text": [
      "100%|██████████| 100/100 [00:09<00:00, 10.64it/s]\n"
     ]
    },
    {
     "name": "stdout",
     "output_type": "stream",
     "text": [
      "MLP on VGG with UMAP (n_components = 50, metric = 'cosine) reduction, Accuracy : 84.87738419618529\n"
     ]
    },
    {
     "name": "stderr",
     "output_type": "stream",
     "text": [
      "100%|██████████| 100/100 [00:24<00:00,  4.14it/s]\n",
      "100%|██████████| 100/100 [00:06<00:00, 15.83it/s]"
     ]
    },
    {
     "name": "stdout",
     "output_type": "stream",
     "text": [
      "MLP on VGG with Autoencoder(50) reduction, Accuracy : 87.60217983651226\n"
     ]
    },
    {
     "name": "stderr",
     "output_type": "stream",
     "text": [
      "\n"
     ]
    }
   ],
   "source": [
    "from sklearn.model_selection import train_test_split\n",
    "X_train,X_test,y_train,y_test = train_test_split(f_all,y_all,test_size=0.2)\n",
    "mlp = MLP(f_all.shape[1])\n",
    "mlp.train(X_train,y_train)\n",
    "mlp.eval(X_test,y_test)\n",
    "     \n",
    "score = mlp.eval(X_test,y_test)\n",
    "print(\"MLP on VGG without reduced-dimension, Accurracy:\", score)\n",
    "#MLP on VGG with UMAP (n_components = 50, metric = 'cosine) reduction\n",
    "umap = umap.UMAP(n_components=50, metric='cosine')\n",
    "red_umap = umap.fit_transform(f_all)\n",
    "X_train,X_test,y_train,y_test = train_test_split(red_umap,y_all,test_size=0.2)\n",
    "mlp = MLP(red_umap.shape[1])\n",
    "mlp.train(X_train,y_train)\n",
    "mlp.eval(X_test,y_test)\n",
    "score = mlp.eval(X_test,y_test)\n",
    "print(\"MLP on VGG with UMAP (n_components = 50, metric = 'cosine) reduction, Accuracy :\", score)\n",
    "#MLP on VGG with Autoencoder(50)\n",
    "red_auto = Autoencoder(50).fit_transform(f_all)\n",
    "X_train,X_test,y_train,y_test = train_test_split(red_auto,y_all,test_size=0.2)\n",
    "mlp = MLP(red_auto.shape[1])\n",
    "mlp.train(X_train,y_train)\n",
    "mlp.eval(X_test,y_test)\n",
    "score = mlp.eval(X_test,y_test)\n",
    "print(\"MLP on VGG with Autoencoder(50) reduction, Accuracy :\", score)\n",
    "\n"
   ]
  }
 ],
 "metadata": {
  "accelerator": "GPU",
  "colab": {
   "provenance": []
  },
  "gpuClass": "standard",
  "kernelspec": {
   "display_name": "Python 3 (ipykernel)",
   "language": "python",
   "name": "python3"
  },
  "language_info": {
   "codemirror_mode": {
    "name": "ipython",
    "version": 3
   },
   "file_extension": ".py",
   "mimetype": "text/x-python",
   "name": "python",
   "nbconvert_exporter": "python",
   "pygments_lexer": "ipython3",
   "version": "3.9.13"
  }
 },
 "nbformat": 4,
 "nbformat_minor": 1
}
